{
 "cells": [
  {
   "cell_type": "code",
   "execution_count": 6,
   "id": "fd7b1c98-a1c1-4eff-a7d8-9c7a95e52994",
   "metadata": {},
   "outputs": [],
   "source": [
    "#Importing Libraries\n",
    "import numpy as np\n",
    "import pandas as pd\n",
    "import matplotlib.pyplot as plt\n",
    "%matplotlib inline\n",
    "import seaborn as sns\n",
    "import statistics"
   ]
  },
  {
   "cell_type": "markdown",
   "id": "1dc3ca34-38ba-4f90-9f14-0beb1017c9f3",
   "metadata": {},
   "source": [
    "# LEVEL 1"
   ]
  },
  {
   "cell_type": "markdown",
   "id": "f1abd0dc-9a9b-4c85-bcc4-28baac2d521c",
   "metadata": {},
   "source": [
    "### TASK 1"
   ]
  },
  {
   "cell_type": "markdown",
   "id": "201bbb5e-1a1c-4e6e-9d64-46a90fbcdfc5",
   "metadata": {},
   "source": [
    "#### Data Overview"
   ]
  },
  {
   "cell_type": "code",
   "execution_count": 7,
   "id": "3f6cfd19-78db-4f59-b97c-4491b09fca90",
   "metadata": {},
   "outputs": [],
   "source": [
    "data=pd.read_csv('Data_set.csv')"
   ]
  },
  {
   "cell_type": "code",
   "execution_count": 8,
   "id": "5e09bfa3-140d-4ffd-8a66-46531f8bb445",
   "metadata": {},
   "outputs": [
    {
     "name": "stdout",
     "output_type": "stream",
     "text": [
      "<class 'pandas.core.frame.DataFrame'>\n",
      "RangeIndex: 40 entries, 0 to 39\n",
      "Data columns (total 24 columns):\n",
      " #   Column                             Non-Null Count  Dtype \n",
      "---  ------                             --------------  ----- \n",
      " 0   gender                             40 non-null     object\n",
      " 1   age                                40 non-null     int64 \n",
      " 2   Investment_Avenues                 40 non-null     object\n",
      " 3   Mutual_Funds                       40 non-null     int64 \n",
      " 4   Equity_Market                      40 non-null     int64 \n",
      " 5   Debentures                         40 non-null     int64 \n",
      " 6   Government_Bonds                   40 non-null     int64 \n",
      " 7   Fixed_Deposits                     40 non-null     int64 \n",
      " 8   PPF                                40 non-null     int64 \n",
      " 9   Gold                               40 non-null     int64 \n",
      " 10  Stock_Marktet                      40 non-null     object\n",
      " 11  Factor                             40 non-null     object\n",
      " 12  Objective                          40 non-null     object\n",
      " 13  Purpose                            40 non-null     object\n",
      " 14  Duration                           40 non-null     object\n",
      " 15  Invest_Monitor                     40 non-null     object\n",
      " 16  Expect                             40 non-null     object\n",
      " 17  Avenue                             40 non-null     object\n",
      " 18  What are your savings objectives?  40 non-null     object\n",
      " 19  Reason_Equity                      40 non-null     object\n",
      " 20  Reason_Mutual                      40 non-null     object\n",
      " 21  Reason_Bonds                       40 non-null     object\n",
      " 22  Reason_FD                          40 non-null     object\n",
      " 23  Source                             40 non-null     object\n",
      "dtypes: int64(8), object(16)\n",
      "memory usage: 7.6+ KB\n"
     ]
    }
   ],
   "source": [
    "data.info()"
   ]
  },
  {
   "cell_type": "code",
   "execution_count": 9,
   "id": "5c5f99f9-89c4-44fa-a508-e3460e6ef881",
   "metadata": {},
   "outputs": [
    {
     "data": {
      "text/plain": [
       "(40, 24)"
      ]
     },
     "execution_count": 9,
     "metadata": {},
     "output_type": "execute_result"
    }
   ],
   "source": [
    "data.shape"
   ]
  },
  {
   "cell_type": "code",
   "execution_count": 10,
   "id": "1cc0d545-432e-423f-8dd5-f129507ac559",
   "metadata": {},
   "outputs": [
    {
     "data": {
      "text/plain": [
       "Index(['gender', 'age', 'Investment_Avenues', 'Mutual_Funds', 'Equity_Market',\n",
       "       'Debentures', 'Government_Bonds', 'Fixed_Deposits', 'PPF', 'Gold',\n",
       "       'Stock_Marktet', 'Factor', 'Objective', 'Purpose', 'Duration',\n",
       "       'Invest_Monitor', 'Expect', 'Avenue',\n",
       "       'What are your savings objectives?', 'Reason_Equity', 'Reason_Mutual',\n",
       "       'Reason_Bonds', 'Reason_FD', 'Source'],\n",
       "      dtype='object')"
      ]
     },
     "execution_count": 10,
     "metadata": {},
     "output_type": "execute_result"
    }
   ],
   "source": [
    "data.columns"
   ]
  },
  {
   "cell_type": "code",
   "execution_count": 11,
   "id": "e8c41e25-5452-4f0a-abac-57f92aad76b6",
   "metadata": {},
   "outputs": [
    {
     "data": {
      "text/html": [
       "<div>\n",
       "<style scoped>\n",
       "    .dataframe tbody tr th:only-of-type {\n",
       "        vertical-align: middle;\n",
       "    }\n",
       "\n",
       "    .dataframe tbody tr th {\n",
       "        vertical-align: top;\n",
       "    }\n",
       "\n",
       "    .dataframe thead th {\n",
       "        text-align: right;\n",
       "    }\n",
       "</style>\n",
       "<table border=\"1\" class=\"dataframe\">\n",
       "  <thead>\n",
       "    <tr style=\"text-align: right;\">\n",
       "      <th></th>\n",
       "      <th>gender</th>\n",
       "      <th>age</th>\n",
       "      <th>Investment_Avenues</th>\n",
       "      <th>Mutual_Funds</th>\n",
       "      <th>Equity_Market</th>\n",
       "      <th>Debentures</th>\n",
       "      <th>Government_Bonds</th>\n",
       "      <th>Fixed_Deposits</th>\n",
       "      <th>PPF</th>\n",
       "      <th>Gold</th>\n",
       "      <th>...</th>\n",
       "      <th>Duration</th>\n",
       "      <th>Invest_Monitor</th>\n",
       "      <th>Expect</th>\n",
       "      <th>Avenue</th>\n",
       "      <th>What are your savings objectives?</th>\n",
       "      <th>Reason_Equity</th>\n",
       "      <th>Reason_Mutual</th>\n",
       "      <th>Reason_Bonds</th>\n",
       "      <th>Reason_FD</th>\n",
       "      <th>Source</th>\n",
       "    </tr>\n",
       "  </thead>\n",
       "  <tbody>\n",
       "    <tr>\n",
       "      <th>0</th>\n",
       "      <td>Female</td>\n",
       "      <td>34</td>\n",
       "      <td>Yes</td>\n",
       "      <td>1</td>\n",
       "      <td>2</td>\n",
       "      <td>5</td>\n",
       "      <td>3</td>\n",
       "      <td>7</td>\n",
       "      <td>6</td>\n",
       "      <td>4</td>\n",
       "      <td>...</td>\n",
       "      <td>1-3 years</td>\n",
       "      <td>Monthly</td>\n",
       "      <td>20%-30%</td>\n",
       "      <td>Mutual Fund</td>\n",
       "      <td>Retirement Plan</td>\n",
       "      <td>Capital Appreciation</td>\n",
       "      <td>Better Returns</td>\n",
       "      <td>Safe Investment</td>\n",
       "      <td>Fixed Returns</td>\n",
       "      <td>Newspapers and Magazines</td>\n",
       "    </tr>\n",
       "    <tr>\n",
       "      <th>1</th>\n",
       "      <td>Female</td>\n",
       "      <td>23</td>\n",
       "      <td>Yes</td>\n",
       "      <td>4</td>\n",
       "      <td>3</td>\n",
       "      <td>2</td>\n",
       "      <td>1</td>\n",
       "      <td>5</td>\n",
       "      <td>6</td>\n",
       "      <td>7</td>\n",
       "      <td>...</td>\n",
       "      <td>More than 5 years</td>\n",
       "      <td>Weekly</td>\n",
       "      <td>20%-30%</td>\n",
       "      <td>Mutual Fund</td>\n",
       "      <td>Health Care</td>\n",
       "      <td>Dividend</td>\n",
       "      <td>Better Returns</td>\n",
       "      <td>Safe Investment</td>\n",
       "      <td>High Interest Rates</td>\n",
       "      <td>Financial Consultants</td>\n",
       "    </tr>\n",
       "    <tr>\n",
       "      <th>2</th>\n",
       "      <td>Male</td>\n",
       "      <td>30</td>\n",
       "      <td>Yes</td>\n",
       "      <td>3</td>\n",
       "      <td>6</td>\n",
       "      <td>4</td>\n",
       "      <td>2</td>\n",
       "      <td>5</td>\n",
       "      <td>1</td>\n",
       "      <td>7</td>\n",
       "      <td>...</td>\n",
       "      <td>3-5 years</td>\n",
       "      <td>Daily</td>\n",
       "      <td>20%-30%</td>\n",
       "      <td>Equity</td>\n",
       "      <td>Retirement Plan</td>\n",
       "      <td>Capital Appreciation</td>\n",
       "      <td>Tax Benefits</td>\n",
       "      <td>Assured Returns</td>\n",
       "      <td>Fixed Returns</td>\n",
       "      <td>Television</td>\n",
       "    </tr>\n",
       "    <tr>\n",
       "      <th>3</th>\n",
       "      <td>Male</td>\n",
       "      <td>22</td>\n",
       "      <td>Yes</td>\n",
       "      <td>2</td>\n",
       "      <td>1</td>\n",
       "      <td>3</td>\n",
       "      <td>7</td>\n",
       "      <td>6</td>\n",
       "      <td>4</td>\n",
       "      <td>5</td>\n",
       "      <td>...</td>\n",
       "      <td>Less than 1 year</td>\n",
       "      <td>Daily</td>\n",
       "      <td>10%-20%</td>\n",
       "      <td>Equity</td>\n",
       "      <td>Retirement Plan</td>\n",
       "      <td>Dividend</td>\n",
       "      <td>Fund Diversification</td>\n",
       "      <td>Tax Incentives</td>\n",
       "      <td>High Interest Rates</td>\n",
       "      <td>Internet</td>\n",
       "    </tr>\n",
       "    <tr>\n",
       "      <th>4</th>\n",
       "      <td>Female</td>\n",
       "      <td>24</td>\n",
       "      <td>No</td>\n",
       "      <td>2</td>\n",
       "      <td>1</td>\n",
       "      <td>3</td>\n",
       "      <td>6</td>\n",
       "      <td>4</td>\n",
       "      <td>5</td>\n",
       "      <td>7</td>\n",
       "      <td>...</td>\n",
       "      <td>Less than 1 year</td>\n",
       "      <td>Daily</td>\n",
       "      <td>20%-30%</td>\n",
       "      <td>Equity</td>\n",
       "      <td>Retirement Plan</td>\n",
       "      <td>Capital Appreciation</td>\n",
       "      <td>Better Returns</td>\n",
       "      <td>Safe Investment</td>\n",
       "      <td>Risk Free</td>\n",
       "      <td>Internet</td>\n",
       "    </tr>\n",
       "  </tbody>\n",
       "</table>\n",
       "<p>5 rows × 24 columns</p>\n",
       "</div>"
      ],
      "text/plain": [
       "   gender  age Investment_Avenues  Mutual_Funds  Equity_Market  Debentures  \\\n",
       "0  Female   34                Yes             1              2           5   \n",
       "1  Female   23                Yes             4              3           2   \n",
       "2    Male   30                Yes             3              6           4   \n",
       "3    Male   22                Yes             2              1           3   \n",
       "4  Female   24                 No             2              1           3   \n",
       "\n",
       "   Government_Bonds  Fixed_Deposits  PPF  Gold  ...           Duration  \\\n",
       "0                 3               7    6     4  ...          1-3 years   \n",
       "1                 1               5    6     7  ...  More than 5 years   \n",
       "2                 2               5    1     7  ...          3-5 years   \n",
       "3                 7               6    4     5  ...   Less than 1 year   \n",
       "4                 6               4    5     7  ...   Less than 1 year   \n",
       "\n",
       "  Invest_Monitor   Expect       Avenue What are your savings objectives?  \\\n",
       "0        Monthly  20%-30%  Mutual Fund                   Retirement Plan   \n",
       "1         Weekly  20%-30%  Mutual Fund                       Health Care   \n",
       "2          Daily  20%-30%       Equity                   Retirement Plan   \n",
       "3          Daily  10%-20%       Equity                   Retirement Plan   \n",
       "4          Daily  20%-30%       Equity                   Retirement Plan   \n",
       "\n",
       "          Reason_Equity         Reason_Mutual     Reason_Bonds  \\\n",
       "0  Capital Appreciation        Better Returns  Safe Investment   \n",
       "1              Dividend        Better Returns  Safe Investment   \n",
       "2  Capital Appreciation          Tax Benefits  Assured Returns   \n",
       "3              Dividend  Fund Diversification   Tax Incentives   \n",
       "4  Capital Appreciation        Better Returns  Safe Investment   \n",
       "\n",
       "             Reason_FD                    Source  \n",
       "0        Fixed Returns  Newspapers and Magazines  \n",
       "1  High Interest Rates     Financial Consultants  \n",
       "2        Fixed Returns                Television  \n",
       "3  High Interest Rates                  Internet  \n",
       "4            Risk Free                  Internet  \n",
       "\n",
       "[5 rows x 24 columns]"
      ]
     },
     "execution_count": 11,
     "metadata": {},
     "output_type": "execute_result"
    }
   ],
   "source": [
    "data.head(5)"
   ]
  },
  {
   "cell_type": "markdown",
   "id": "cf86f605-fad5-410a-b88f-91248a717aa0",
   "metadata": {},
   "source": [
    "### TASK 2"
   ]
  },
  {
   "cell_type": "markdown",
   "id": "42850e8a-db44-478a-a34d-4dbdecdcc367",
   "metadata": {},
   "source": [
    "#### Gender Distribution"
   ]
  },
  {
   "cell_type": "code",
   "execution_count": 12,
   "id": "bc6f5bfc-ea21-4d1d-8767-712a975329e6",
   "metadata": {},
   "outputs": [
    {
     "data": {
      "image/png": "[encoded data removed]",
      "text/plain": [
       "<Figure size 640x480 with 1 Axes>"
      ]
     },
     "metadata": {},
     "output_type": "display_data"
    }
   ],
   "source": [
    "gender_count=sns.countplot(x=\"gender\",data=data)\n",
    "for i in gender_count.containers:\n",
    "    gender_count.bar_label(i)"
   ]
  },
  {
   "cell_type": "markdown",
   "id": "ec274371-05bf-4930-96c0-2f22ac291ee6",
   "metadata": {},
   "source": [
    "# LEVEL 2"
   ]
  },
  {
   "cell_type": "markdown",
   "id": "0f20bd48-5487-465b-aeab-2310ee60b45a",
   "metadata": {},
   "source": [
    "### TASK 3"
   ]
  },
  {
   "cell_type": "markdown",
   "id": "e856e776-d932-48a3-968a-bc2f11105493",
   "metadata": {},
   "source": [
    "#### Descriptive Statistics"
   ]
  },
  {
   "cell_type": "code",
   "execution_count": 13,
   "id": "9825f375-c8a1-439f-ace2-78df088d2560",
   "metadata": {},
   "outputs": [
    {
     "data": {
      "text/plain": [
       "gender                               object\n",
       "age                                   int64\n",
       "Investment_Avenues                   object\n",
       "Mutual_Funds                          int64\n",
       "Equity_Market                         int64\n",
       "Debentures                            int64\n",
       "Government_Bonds                      int64\n",
       "Fixed_Deposits                        int64\n",
       "PPF                                   int64\n",
       "Gold                                  int64\n",
       "Stock_Marktet                        object\n",
       "Factor                               object\n",
       "Objective                            object\n",
       "Purpose                              object\n",
       "Duration                             object\n",
       "Invest_Monitor                       object\n",
       "Expect                               object\n",
       "Avenue                               object\n",
       "What are your savings objectives?    object\n",
       "Reason_Equity                        object\n",
       "Reason_Mutual                        object\n",
       "Reason_Bonds                         object\n",
       "Reason_FD                            object\n",
       "Source                               object\n",
       "dtype: object"
      ]
     },
     "execution_count": 13,
     "metadata": {},
     "output_type": "execute_result"
    }
   ],
   "source": [
    "data.dtypes"
   ]
  },
  {
   "cell_type": "code",
   "execution_count": 14,
   "id": "34ebfffe-a429-4f46-bdb0-fcef8aa4e3c6",
   "metadata": {},
   "outputs": [
    {
     "data": {
      "text/html": [
       "<div>\n",
       "<style scoped>\n",
       "    .dataframe tbody tr th:only-of-type {\n",
       "        vertical-align: middle;\n",
       "    }\n",
       "\n",
       "    .dataframe tbody tr th {\n",
       "        vertical-align: top;\n",
       "    }\n",
       "\n",
       "    .dataframe thead th {\n",
       "        text-align: right;\n",
       "    }\n",
       "</style>\n",
       "<table border=\"1\" class=\"dataframe\">\n",
       "  <thead>\n",
       "    <tr style=\"text-align: right;\">\n",
       "      <th></th>\n",
       "      <th>age</th>\n",
       "      <th>Mutual_Funds</th>\n",
       "      <th>Equity_Market</th>\n",
       "      <th>Debentures</th>\n",
       "      <th>Government_Bonds</th>\n",
       "      <th>Fixed_Deposits</th>\n",
       "      <th>PPF</th>\n",
       "      <th>Gold</th>\n",
       "    </tr>\n",
       "  </thead>\n",
       "  <tbody>\n",
       "    <tr>\n",
       "      <th>count</th>\n",
       "      <td>40.000000</td>\n",
       "      <td>40.000000</td>\n",
       "      <td>40.000000</td>\n",
       "      <td>40.000000</td>\n",
       "      <td>40.000000</td>\n",
       "      <td>40.000000</td>\n",
       "      <td>40.000000</td>\n",
       "      <td>40.000000</td>\n",
       "    </tr>\n",
       "    <tr>\n",
       "      <th>mean</th>\n",
       "      <td>27.800000</td>\n",
       "      <td>2.550000</td>\n",
       "      <td>3.475000</td>\n",
       "      <td>5.750000</td>\n",
       "      <td>4.650000</td>\n",
       "      <td>3.575000</td>\n",
       "      <td>2.025000</td>\n",
       "      <td>5.975000</td>\n",
       "    </tr>\n",
       "    <tr>\n",
       "      <th>std</th>\n",
       "      <td>3.560467</td>\n",
       "      <td>1.197219</td>\n",
       "      <td>1.131994</td>\n",
       "      <td>1.675617</td>\n",
       "      <td>1.369072</td>\n",
       "      <td>1.795828</td>\n",
       "      <td>1.609069</td>\n",
       "      <td>1.143263</td>\n",
       "    </tr>\n",
       "    <tr>\n",
       "      <th>min</th>\n",
       "      <td>21.000000</td>\n",
       "      <td>1.000000</td>\n",
       "      <td>1.000000</td>\n",
       "      <td>1.000000</td>\n",
       "      <td>1.000000</td>\n",
       "      <td>1.000000</td>\n",
       "      <td>1.000000</td>\n",
       "      <td>2.000000</td>\n",
       "    </tr>\n",
       "    <tr>\n",
       "      <th>25%</th>\n",
       "      <td>25.750000</td>\n",
       "      <td>2.000000</td>\n",
       "      <td>3.000000</td>\n",
       "      <td>5.000000</td>\n",
       "      <td>4.000000</td>\n",
       "      <td>2.750000</td>\n",
       "      <td>1.000000</td>\n",
       "      <td>6.000000</td>\n",
       "    </tr>\n",
       "    <tr>\n",
       "      <th>50%</th>\n",
       "      <td>27.000000</td>\n",
       "      <td>2.000000</td>\n",
       "      <td>4.000000</td>\n",
       "      <td>6.500000</td>\n",
       "      <td>5.000000</td>\n",
       "      <td>3.500000</td>\n",
       "      <td>1.000000</td>\n",
       "      <td>6.000000</td>\n",
       "    </tr>\n",
       "    <tr>\n",
       "      <th>75%</th>\n",
       "      <td>30.000000</td>\n",
       "      <td>3.000000</td>\n",
       "      <td>4.000000</td>\n",
       "      <td>7.000000</td>\n",
       "      <td>5.000000</td>\n",
       "      <td>5.000000</td>\n",
       "      <td>2.250000</td>\n",
       "      <td>7.000000</td>\n",
       "    </tr>\n",
       "    <tr>\n",
       "      <th>max</th>\n",
       "      <td>35.000000</td>\n",
       "      <td>7.000000</td>\n",
       "      <td>6.000000</td>\n",
       "      <td>7.000000</td>\n",
       "      <td>7.000000</td>\n",
       "      <td>7.000000</td>\n",
       "      <td>6.000000</td>\n",
       "      <td>7.000000</td>\n",
       "    </tr>\n",
       "  </tbody>\n",
       "</table>\n",
       "</div>"
      ],
      "text/plain": [
       "             age  Mutual_Funds  Equity_Market  Debentures  Government_Bonds  \\\n",
       "count  40.000000     40.000000      40.000000   40.000000         40.000000   \n",
       "mean   27.800000      2.550000       3.475000    5.750000          4.650000   \n",
       "std     3.560467      1.197219       1.131994    1.675617          1.369072   \n",
       "min    21.000000      1.000000       1.000000    1.000000          1.000000   \n",
       "25%    25.750000      2.000000       3.000000    5.000000          4.000000   \n",
       "50%    27.000000      2.000000       4.000000    6.500000          5.000000   \n",
       "75%    30.000000      3.000000       4.000000    7.000000          5.000000   \n",
       "max    35.000000      7.000000       6.000000    7.000000          7.000000   \n",
       "\n",
       "       Fixed_Deposits        PPF       Gold  \n",
       "count       40.000000  40.000000  40.000000  \n",
       "mean         3.575000   2.025000   5.975000  \n",
       "std          1.795828   1.609069   1.143263  \n",
       "min          1.000000   1.000000   2.000000  \n",
       "25%          2.750000   1.000000   6.000000  \n",
       "50%          3.500000   1.000000   6.000000  \n",
       "75%          5.000000   2.250000   7.000000  \n",
       "max          7.000000   6.000000   7.000000  "
      ]
     },
     "execution_count": 14,
     "metadata": {},
     "output_type": "execute_result"
    }
   ],
   "source": [
    "data.describe()"
   ]
  },
  {
   "cell_type": "code",
   "execution_count": 15,
   "id": "fd9ef873-3b65-43d8-99e6-1331f0eeb188",
   "metadata": {},
   "outputs": [
    {
     "name": "stdout",
     "output_type": "stream",
     "text": [
      "Median Age: 27.0\n",
      "Median Mutual Funds: 2.0\n",
      "Median Equity Market: 4.0\n",
      "Median Debentures: 6.5\n",
      "Median Government Bonds: 5.0\n",
      "Median Fixed Deposits: 3.5\n",
      "Median PPF: 1.0\n",
      "Median Gold: 6.0\n"
     ]
    }
   ],
   "source": [
    "print(\"Median Age:\",statistics.median(data['age']))\n",
    "print(\"Median Mutual Funds:\",statistics.median(data['Mutual_Funds']))\n",
    "print(\"Median Equity Market:\",statistics.median(data['Equity_Market']))\n",
    "print(\"Median Debentures:\",statistics.median(data['Debentures']))\n",
    "print(\"Median Government Bonds:\",statistics.median(data['Government_Bonds']))\n",
    "print(\"Median Fixed Deposits:\",statistics.median(data['Fixed_Deposits']))\n",
    "print(\"Median PPF:\",statistics.median(data['PPF']))\n",
    "print(\"Median Gold:\",statistics.median(data['Gold']))\n"
   ]
  },
  {
   "cell_type": "markdown",
   "id": "ee700d42-0b25-449a-b74d-8c80455057ef",
   "metadata": {},
   "source": [
    "### TASK 4"
   ]
  },
  {
   "cell_type": "markdown",
   "id": "f18df29f-5d2a-4f84-83c5-5005cd8a31f3",
   "metadata": {},
   "source": [
    "#### Most preferred Investment Avenue"
   ]
  },
  {
   "cell_type": "code",
   "execution_count": 16,
   "id": "ca929d22-d164-4c79-8a39-a4fdfb1d02c2",
   "metadata": {},
   "outputs": [
    {
     "data": {
      "text/plain": [
       "0               Mutual Fund\n",
       "1               Mutual Fund\n",
       "2                    Equity\n",
       "3                    Equity\n",
       "4                    Equity\n",
       "5               Mutual Fund\n",
       "6                    Equity\n",
       "7               Mutual Fund\n",
       "8                    Equity\n",
       "9            Fixed Deposits\n",
       "10              Mutual Fund\n",
       "11              Mutual Fund\n",
       "12              Mutual Fund\n",
       "13              Mutual Fund\n",
       "14           Fixed Deposits\n",
       "15              Mutual Fund\n",
       "16           Fixed Deposits\n",
       "17              Mutual Fund\n",
       "18              Mutual Fund\n",
       "19           Fixed Deposits\n",
       "20              Mutual Fund\n",
       "21                   Equity\n",
       "22              Mutual Fund\n",
       "23    Public Provident Fund\n",
       "24    Public Provident Fund\n",
       "25              Mutual Fund\n",
       "26              Mutual Fund\n",
       "27           Fixed Deposits\n",
       "28                   Equity\n",
       "29              Mutual Fund\n",
       "30              Mutual Fund\n",
       "31           Fixed Deposits\n",
       "32                   Equity\n",
       "33           Fixed Deposits\n",
       "34              Mutual Fund\n",
       "35           Fixed Deposits\n",
       "36                   Equity\n",
       "37    Public Provident Fund\n",
       "38                   Equity\n",
       "39           Fixed Deposits\n",
       "Name: Avenue, dtype: object"
      ]
     },
     "execution_count": 16,
     "metadata": {},
     "output_type": "execute_result"
    }
   ],
   "source": [
    "data['Avenue']"
   ]
  },
  {
   "cell_type": "code",
   "execution_count": 17,
   "id": "7963e875-2d98-4841-b687-144a3f9bb55d",
   "metadata": {},
   "outputs": [],
   "source": [
    "# Setting width height of plot\n",
    "sns.set(rc={'figure.figsize':(8,5)})"
   ]
  },
  {
   "cell_type": "code",
   "execution_count": 18,
   "id": "f3ccaa07-3320-414b-857f-a8f1de80ff29",
   "metadata": {},
   "outputs": [
    {
     "data": {
      "image/png": "[encoded data removed]",
      "text/plain": [
       "<Figure size 800x500 with 1 Axes>"
      ]
     },
     "metadata": {},
     "output_type": "display_data"
    }
   ],
   "source": [
    "pinvestment=sns.countplot(x='Avenue', data=data)\n",
    "for i in pinvestment.containers:\n",
    "    pinvestment.bar_label(i)"
   ]
  },
  {
   "cell_type": "markdown",
   "id": "565cc15a-0215-4ed7-ad3d-411b5d90d247",
   "metadata": {},
   "source": [
    "##### Mutual Funds is the most prferred investment avenue"
   ]
  },
  {
   "cell_type": "markdown",
   "id": "2069c38d-543b-41ef-8257-847eec03bda0",
   "metadata": {},
   "source": [
    "## LEVEL 3"
   ]
  },
  {
   "cell_type": "markdown",
   "id": "5691d8f9-b5ca-4d5a-84c3-267fc06cfd2b",
   "metadata": {},
   "source": [
    "### TASK 5"
   ]
  },
  {
   "cell_type": "markdown",
   "id": "c1a5ca9f-3ff8-4b1d-a299-7ec33671c14b",
   "metadata": {},
   "source": [
    "#### Reason for Investment"
   ]
  },
  {
   "cell_type": "code",
   "execution_count": 19,
   "id": "b12d509f-efa7-4b1e-8c24-f69fda58a522",
   "metadata": {},
   "outputs": [
    {
     "data": {
      "text/plain": [
       "Index(['gender', 'age', 'Investment_Avenues', 'Mutual_Funds', 'Equity_Market',\n",
       "       'Debentures', 'Government_Bonds', 'Fixed_Deposits', 'PPF', 'Gold',\n",
       "       'Stock_Marktet', 'Factor', 'Objective', 'Purpose', 'Duration',\n",
       "       'Invest_Monitor', 'Expect', 'Avenue',\n",
       "       'What are your savings objectives?', 'Reason_Equity', 'Reason_Mutual',\n",
       "       'Reason_Bonds', 'Reason_FD', 'Source'],\n",
       "      dtype='object')"
      ]
     },
     "execution_count": 19,
     "metadata": {},
     "output_type": "execute_result"
    }
   ],
   "source": [
    "data.columns"
   ]
  },
  {
   "cell_type": "code",
   "execution_count": 20,
   "id": "3ae74208-5777-45a7-a434-b18407238045",
   "metadata": {},
   "outputs": [
    {
     "data": {
      "text/plain": [
       "array(['Capital Appreciation', 'Dividend', 'Liquidity'], dtype=object)"
      ]
     },
     "execution_count": 20,
     "metadata": {},
     "output_type": "execute_result"
    }
   ],
   "source": [
    "# Common reasons for participants' investment choice\n",
    "data['Reason_Equity'].unique()"
   ]
  },
  {
   "cell_type": "markdown",
   "id": "67f8ef48-4bdf-478a-842b-55db49f24555",
   "metadata": {},
   "source": [
    "##### Common reasons for participants' investment choice: Capital Appreciation, Dividend, Liquidity"
   ]
  },
  {
   "cell_type": "markdown",
   "id": "57fcaf30-7e43-4717-b52a-44b22c11ec98",
   "metadata": {},
   "source": [
    "### TASK 6"
   ]
  },
  {
   "cell_type": "markdown",
   "id": "3815fe8f-0225-4b22-bf54-3d8367fbff2f",
   "metadata": {},
   "source": [
    "#### Saving Objectives"
   ]
  },
  {
   "cell_type": "code",
   "execution_count": 21,
   "id": "09f43e0a-d921-4a2f-8c4d-84bf9321453a",
   "metadata": {},
   "outputs": [
    {
     "data": {
      "text/plain": [
       "{'Education', 'Health Care', 'Retirement Plan'}"
      ]
     },
     "execution_count": 21,
     "metadata": {},
     "output_type": "execute_result"
    }
   ],
   "source": [
    "List=[]\n",
    "Set={}\n",
    "List=data['What are your savings objectives?']\n",
    "Set=set(List)\n",
    "Set"
   ]
  },
  {
   "cell_type": "markdown",
   "id": "d7b097c7-23f7-44af-a2eb-01cc6863b8ed",
   "metadata": {},
   "source": [
    "##### Various Saving Objectives are: Education,Health Care, Retirement Plans"
   ]
  },
  {
   "cell_type": "markdown",
   "id": "fe82dc73-fde6-4b59-b235-ccf8f434050e",
   "metadata": {},
   "source": [
    "## LEVEL 4"
   ]
  },
  {
   "cell_type": "markdown",
   "id": "387300da-5273-4b49-98df-1578b831d06f",
   "metadata": {},
   "source": [
    "### TASK 7"
   ]
  },
  {
   "cell_type": "markdown",
   "id": "3c956a6d-ac31-45b4-bdff-ce6ae348debd",
   "metadata": {},
   "source": [
    "#### Common Information Sources"
   ]
  },
  {
   "cell_type": "code",
   "execution_count": 22,
   "id": "3d753940-c827-4e40-b4a9-b459fecfc256",
   "metadata": {},
   "outputs": [
    {
     "data": {
      "text/plain": [
       "Index(['gender', 'age', 'Investment_Avenues', 'Mutual_Funds', 'Equity_Market',\n",
       "       'Debentures', 'Government_Bonds', 'Fixed_Deposits', 'PPF', 'Gold',\n",
       "       'Stock_Marktet', 'Factor', 'Objective', 'Purpose', 'Duration',\n",
       "       'Invest_Monitor', 'Expect', 'Avenue',\n",
       "       'What are your savings objectives?', 'Reason_Equity', 'Reason_Mutual',\n",
       "       'Reason_Bonds', 'Reason_FD', 'Source'],\n",
       "      dtype='object')"
      ]
     },
     "execution_count": 22,
     "metadata": {},
     "output_type": "execute_result"
    }
   ],
   "source": [
    "data.columns"
   ]
  },
  {
   "cell_type": "code",
   "execution_count": 23,
   "id": "a1804f9d-3419-45b9-9c82-93e8a4f64249",
   "metadata": {},
   "outputs": [
    {
     "data": {
      "text/plain": [
       "array(['Newspapers and Magazines', 'Financial Consultants', 'Television',\n",
       "       'Internet'], dtype=object)"
      ]
     },
     "execution_count": 23,
     "metadata": {},
     "output_type": "execute_result"
    }
   ],
   "source": [
    "data['Source'].unique()"
   ]
  },
  {
   "cell_type": "code",
   "execution_count": 24,
   "id": "b223f7b1-0bfb-47ce-ad04-081149c0187b",
   "metadata": {},
   "outputs": [
    {
     "data": {
      "image/png": "[encoded data removed]",
      "text/plain": [
       "<Figure size 1000x500 with 1 Axes>"
      ]
     },
     "metadata": {},
     "output_type": "display_data"
    }
   ],
   "source": [
    "# Setting width height of plot\n",
    "sns.set(rc={'figure.figsize':(10,5)})\n",
    "investment_source=sns.countplot(x='Source',data=data)\n",
    "for i in investment_source.containers:\n",
    "    investment_source.bar_label(i)"
   ]
  },
  {
   "cell_type": "code",
   "execution_count": 25,
   "id": "704a0c5e-944b-4b12-840b-390119c1bb7c",
   "metadata": {},
   "outputs": [],
   "source": [
    "##### Financial Consultants are the most common sources participants rely on "
   ]
  },
  {
   "cell_type": "markdown",
   "id": "234903ff-b7ac-4db6-92a1-02791b5cafb5",
   "metadata": {},
   "source": [
    "### TASK 8*"
   ]
  },
  {
   "cell_type": "markdown",
   "id": "3be5ba26-15d1-4fcf-8241-9cd99fe7ab09",
   "metadata": {},
   "source": [
    "#### Investment Duration"
   ]
  },
  {
   "cell_type": "code",
   "execution_count": 26,
   "id": "d55c5ca2-8464-4a9f-90c4-5455c888b6d3",
   "metadata": {},
   "outputs": [
    {
     "data": {
      "text/plain": [
       "0             1-3 years\n",
       "1     More than 5 years\n",
       "2             3-5 years\n",
       "3      Less than 1 year\n",
       "4      Less than 1 year\n",
       "5             1-3 years\n",
       "6             3-5 years\n",
       "7             3-5 years\n",
       "8             1-3 years\n",
       "9             3-5 years\n",
       "10            3-5 years\n",
       "11            1-3 years\n",
       "12            1-3 years\n",
       "13            1-3 years\n",
       "14            1-3 years\n",
       "15            1-3 years\n",
       "16            1-3 years\n",
       "17            1-3 years\n",
       "18            1-3 years\n",
       "19            3-5 years\n",
       "20            3-5 years\n",
       "21            3-5 years\n",
       "22            3-5 years\n",
       "23            3-5 years\n",
       "24            3-5 years\n",
       "25            3-5 years\n",
       "26            3-5 years\n",
       "27            1-3 years\n",
       "28            1-3 years\n",
       "29            3-5 years\n",
       "30            1-3 years\n",
       "31            3-5 years\n",
       "32            3-5 years\n",
       "33            1-3 years\n",
       "34            1-3 years\n",
       "35            3-5 years\n",
       "36            1-3 years\n",
       "37            3-5 years\n",
       "38            1-3 years\n",
       "39            3-5 years\n",
       "Name: Duration, dtype: object"
      ]
     },
     "execution_count": 26,
     "metadata": {},
     "output_type": "execute_result"
    }
   ],
   "source": [
    "data['Duration']"
   ]
  },
  {
   "cell_type": "markdown",
   "id": "8415ffc0-ac21-4f71-aa46-20b557c36a69",
   "metadata": {},
   "source": [
    "##### As Duration is present in catgorical values, hence converting into quatitative variables using dummy values\n"
   ]
  },
  {
   "cell_type": "markdown",
   "id": "997b4af5-2237-4db9-aa75-93a5c4e42f65",
   "metadata": {},
   "source": [
    "### TASK 9"
   ]
  },
  {
   "cell_type": "markdown",
   "id": "6f7bacb8-9bbf-4c70-a46a-45594bc40103",
   "metadata": {},
   "source": [
    "#### Expectation from Investments"
   ]
  },
  {
   "cell_type": "code",
   "execution_count": 27,
   "id": "63965369-8fe4-4a13-b81a-1b57b1cd08f0",
   "metadata": {},
   "outputs": [
    {
     "data": {
      "text/plain": [
       "array(['20%-30%', '10%-20%', '30%-40%'], dtype=object)"
      ]
     },
     "execution_count": 27,
     "metadata": {},
     "output_type": "execute_result"
    }
   ],
   "source": [
    "data['Expect'].unique()"
   ]
  },
  {
   "cell_type": "markdown",
   "id": "76f858e4-f7fd-4c5b-87d4-4b294b5bcad5",
   "metadata": {},
   "source": [
    "##### Common Epectations mentioned by participants are: 10%-20%, 20% -30%, 30%-40%"
   ]
  },
  {
   "cell_type": "markdown",
   "id": "70281b0d-8209-46cd-b490-baa94691fa56",
   "metadata": {},
   "source": [
    "### TASK 10"
   ]
  },
  {
   "cell_type": "markdown",
   "id": "570fde57-8288-4145-a80c-edf8317d5ff6",
   "metadata": {},
   "source": [
    "#### Correlation Analysis"
   ]
  },
  {
   "cell_type": "code",
   "execution_count": 28,
   "id": "a151c543-ad38-4f10-91d4-1a22293b2719",
   "metadata": {},
   "outputs": [
    {
     "data": {
      "text/plain": [
       "Index(['gender', 'age', 'Investment_Avenues', 'Mutual_Funds', 'Equity_Market',\n",
       "       'Debentures', 'Government_Bonds', 'Fixed_Deposits', 'PPF', 'Gold',\n",
       "       'Stock_Marktet', 'Factor', 'Objective', 'Purpose', 'Duration',\n",
       "       'Invest_Monitor', 'Expect', 'Avenue',\n",
       "       'What are your savings objectives?', 'Reason_Equity', 'Reason_Mutual',\n",
       "       'Reason_Bonds', 'Reason_FD', 'Source'],\n",
       "      dtype='object')"
      ]
     },
     "execution_count": 28,
     "metadata": {},
     "output_type": "execute_result"
    }
   ],
   "source": [
    "data.columns"
   ]
  }
 ],
 "metadata": {
  "kernelspec": {
   "display_name": "Python 3 (ipykernel)",
   "language": "python",
   "name": "python3"
  },
  "language_info": {
   "codemirror_mode": {
    "name": "ipython",
    "version": 3
   },
   "file_extension": ".py",
   "mimetype": "text/x-python",
   "name": "python",
   "nbconvert_exporter": "python",
   "pygments_lexer": "ipython3",
   "version": "3.11.7"
  }
 },
 "nbformat": 4,
 "nbformat_minor": 5
}
